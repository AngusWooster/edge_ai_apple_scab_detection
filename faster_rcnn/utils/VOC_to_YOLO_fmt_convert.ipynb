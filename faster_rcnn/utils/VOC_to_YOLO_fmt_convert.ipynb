{
 "cells": [
  {
   "cell_type": "code",
   "execution_count": 18,
   "metadata": {},
   "outputs": [],
   "source": [
    "import xml.etree.ElementTree as et\n",
    "import glob\n",
    "import os\n",
    "import json\n",
    "from tqdm import tqdm"
   ]
  },
  {
   "cell_type": "code",
   "execution_count": 2,
   "metadata": {},
   "outputs": [],
   "source": [
    "def xml_to_yolo_bbox(bbox, w, h):\n",
    "    # xmin, ymin, xmax, ymax\n",
    "    x_center = ((bbox[2] + bbox[0]) / 2) / w\n",
    "    y_center = ((bbox[3] + bbox[1]) / 2) / h\n",
    "    width = (bbox[2] - bbox[0]) / w\n",
    "    height = (bbox[3] - bbox[1]) / h\n",
    "    return [x_center, y_center, width, height]\n",
    "def yolo_to_xml_bbox(bbox, w, h):\n",
    "    # x_center, y_center width heigth\n",
    "    w_half_len = (bbox[2] * w) / 2\n",
    "    h_half_len = (bbox[3] * h) / 2\n",
    "    xmin = int((bbox[0] * w) - w_half_len)\n",
    "    ymin = int((bbox[1] * h) - h_half_len)\n",
    "    xmax = int((bbox[0] * w) + w_half_len)\n",
    "    ymax = int((bbox[1] * h) + h_half_len)\n",
    "    return [xmin, ymin, xmax, ymax]"
   ]
  },
  {
   "cell_type": "code",
   "execution_count": 30,
   "metadata": {},
   "outputs": [],
   "source": [
    "classes = []\n",
    "input_dir = \"../data/final_dataset/valid_labels/\"\n",
    "output_dir = \"../data/final_dataset/valid_yolo_labels/\"\n",
    "image_dir = \"../data/final_dataset/valid_images/\""
   ]
  },
  {
   "cell_type": "code",
   "execution_count": 31,
   "metadata": {},
   "outputs": [],
   "source": [
    "if not os.path.isdir(output_dir):\n",
    "    os.mkdir(output_dir)"
   ]
  },
  {
   "cell_type": "code",
   "execution_count": 32,
   "metadata": {},
   "outputs": [
    {
     "name": "stderr",
     "output_type": "stream",
     "text": [
      "100%|██████████| 42/42 [00:00<00:00, 5490.27it/s]\n"
     ]
    }
   ],
   "source": [
    "voc_xml_files = sorted(glob.glob(os.path.join(input_dir, '*.xml')))\n",
    "\n",
    "\n",
    "for file in tqdm(voc_xml_files):\n",
    "    basename = os.path.basename(file)\n",
    "    filename = os.path.splitext(basename)[0]\n",
    "\n",
    "\n",
    "    # if not os.path.exists(os.path.join(image_dir, f\"{filename}.jpg\")):\n",
    "    #     print(f\"{filename} image doesn't exist\")\n",
    "\n",
    "    result = []\n",
    "    tree = et.parse(file)\n",
    "    root = tree.getroot()\n",
    "    width = int(root.find(\"size\").find(\"width\").text)\n",
    "    height = int(root.find(\"size\").find(\"height\").text)\n",
    "\n",
    "    for obj in root.findall('object'):\n",
    "        label = obj.find('name').text\n",
    "        if label not in classes:\n",
    "            classes.append(label)\n",
    "        idx = classes.index(label)\n",
    "        pil_bbox = [int(x.text) for x in obj.find(\"bndbox\")]\n",
    "        yolo_bbox = xml_to_yolo_bbox(pil_bbox, width, height)\n",
    "        bbox_string = \" \".join([str(x) for x in yolo_bbox])\n",
    "        result.append(f\"{idx} {bbox_string}\")\n",
    "    \n",
    "    if result:\n",
    "        with open(os.path.join(output_dir, f\"{filename}.txt\"), \"w\", encoding=\"utf-8\") as f:\n",
    "            f.write(\"\\n\".join(result))\n"
   ]
  },
  {
   "cell_type": "code",
   "execution_count": 1,
   "metadata": {},
   "outputs": [],
   "source": [
    "import glob\n",
    "import os\n",
    "\n",
    "dataset_path = \"../data/final_dataset/\"\n",
    "image_type = \"valid\"\n",
    "images_path = dataset_path + f\"images/{image_type}/\"\n",
    "labels_path = dataset_path + f\"labels/{image_type}/\"\n",
    "images = sorted(glob.glob(os.path.join(images_path, '*')))\n",
    "labels = [f'{os.path.dirname(labels_path)}/{os.path.splitext(os.path.basename(img))[0]}.txt' for img in images]\n",
    "outputs = []\n",
    "for out in zip(images, labels):\n",
    "    outputs.append(out[0])\n",
    "    outputs.append(out[1])"
   ]
  },
  {
   "cell_type": "code",
   "execution_count": 2,
   "metadata": {},
   "outputs": [],
   "source": [
    "with open(os.path.join(dataset_path, f\"{image_type}_list.txt\"), \"w\", encoding=\"utf-8\") as f:\n",
    "    f.write(\"\\n\".join(outputs))"
   ]
  }
 ],
 "metadata": {
  "kernelspec": {
   "display_name": "Python 3",
   "language": "python",
   "name": "python3"
  },
  "language_info": {
   "codemirror_mode": {
    "name": "ipython",
    "version": 3
   },
   "file_extension": ".py",
   "mimetype": "text/x-python",
   "name": "python",
   "nbconvert_exporter": "python",
   "pygments_lexer": "ipython3",
   "version": "3.10.6"
  },
  "orig_nbformat": 4
 },
 "nbformat": 4,
 "nbformat_minor": 2
}
